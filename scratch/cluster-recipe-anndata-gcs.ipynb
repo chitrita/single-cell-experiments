{
 "cells": [
  {
   "cell_type": "markdown",
   "metadata": {},
   "source": [
    "# Scanpy on Spark with Jupyter - Zheng preprocessing recipe"
   ]
  },
  {
   "cell_type": "markdown",
   "metadata": {},
   "source": [
    "This notebook runs Scanpy's `recipe_zheng17` function using PySpark on the 1.3M neurons [dataset](https://support.10xgenomics.com/single-cell-gene-expression/datasets/1M_neurons) from 10x Genomics. The data is stored in Zarr format on GCS."
   ]
  },
  {
   "cell_type": "markdown",
   "metadata": {},
   "source": [
    "We need a few supporting files to run, so we clone a GitHub repository, and add it to the Python path."
   ]
  },
  {
   "cell_type": "code",
   "execution_count": 1,
   "metadata": {},
   "outputs": [
    {
     "name": "stdout",
     "output_type": "stream",
     "text": [
      "fatal: destination path 'single-cell-experiments' already exists and is not an empty directory.\r\n"
     ]
    }
   ],
   "source": [
    "! git clone https://github.com/lasersonlab/single-cell-experiments\n",
    "import sys\n",
    "sys.path.append(\"single-cell-experiments\")"
   ]
  },
  {
   "cell_type": "markdown",
   "metadata": {},
   "source": [
    "We also need to make the files available to the executors. Note that `sc` is the Spark context."
   ]
  },
  {
   "cell_type": "code",
   "execution_count": 2,
   "metadata": {},
   "outputs": [],
   "source": [
    "sc.addPyFile(\"single-cell-experiments/anndata_spark.py\")\n",
    "sc.addPyFile(\"single-cell-experiments/scanpy_spark.py\")\n",
    "sc.addPyFile(\"single-cell-experiments/zarr_spark.py\")"
   ]
  },
  {
   "cell_type": "markdown",
   "metadata": {},
   "source": [
    "Import `AnnDataRdd` which allows us to read and write AnnData objects in Zarr format on GCS.\n",
    "And `scanpy_spark` which is a re-working of some of Scanpy's preprocessing module to work on Spark."
   ]
  },
  {
   "cell_type": "code",
   "execution_count": 3,
   "metadata": {},
   "outputs": [
    {
     "name": "stderr",
     "output_type": "stream",
     "text": [
      "/opt/conda/lib/python3.6/importlib/_bootstrap.py:219: RuntimeWarning: numpy.dtype size changed, may indicate binary incompatibility. Expected 96, got 88\n",
      "  return f(*args, **kwds)\n",
      "/opt/conda/lib/python3.6/importlib/_bootstrap.py:219: RuntimeWarning: numpy.dtype size changed, may indicate binary incompatibility. Expected 96, got 88\n",
      "  return f(*args, **kwds)\n"
     ]
    }
   ],
   "source": [
    "from anndata_spark import AnnDataRdd\n",
    "from scanpy_spark import *"
   ]
  },
  {
   "cell_type": "markdown",
   "metadata": {},
   "source": [
    "Load the AnnData object from GCS, run the Zheng recipe, then write the results back out to GCS in Zarr format."
   ]
  },
  {
   "cell_type": "code",
   "execution_count": 4,
   "metadata": {},
   "outputs": [
    {
     "name": "stdout",
     "output_type": "stream",
     "text": [
      "Variable names are not unique. To make them unique, call `.var_names_make_unique`.\n",
      "running recipe zheng17\n",
      "the 1000 top genes correspond to a normalized dispersion cutoff of\n",
      "    finished\n",
      "    finished\n"
     ]
    },
    {
     "name": "stderr",
     "output_type": "stream",
     "text": [
      "/opt/conda/lib/python3.6/site-packages/zarr/storage.py:376: UserWarning: an object_codec is only needed for object arrays\n",
      "  warnings.warn('an object_codec is only needed for object arrays')\n",
      "/opt/conda/lib/python3.6/site-packages/zarr/storage.py:376: UserWarning: an object_codec is only needed for object arrays\n",
      "  warnings.warn('an object_codec is only needed for object arrays')\n"
     ]
    },
    {
     "name": "stdout",
     "output_type": "stream",
     "text": [
      "CPU times: user 2.8 s, sys: 308 ms, total: 3.11 s\n",
      "Wall time: 12min 23s\n"
     ]
    }
   ],
   "source": [
    "%%time\n",
    "adata_rdd = AnnDataRdd.from_zarr_gcs(sc, 'll-sc-data-bkup/10x/anndata_zarr/10x.zarr', 'hca-scale')\n",
    "recipe_zheng17(adata_rdd)\n",
    "adata_rdd.write_zarr_gcs('ll-sc-data-bkup/10x/anndata_zarr/10x-log1p.zarr', (10000, adata_rdd.adata.n_vars), 'hca-scale')"
   ]
  }
 ],
 "metadata": {
  "kernelspec": {
   "display_name": "PySpark",
   "language": "python",
   "name": "pyspark"
  },
  "language_info": {
   "codemirror_mode": {
    "name": "ipython",
    "version": 3
   },
   "file_extension": ".py",
   "mimetype": "text/x-python",
   "name": "python",
   "nbconvert_exporter": "python",
   "pygments_lexer": "ipython3",
   "version": "3.6.5"
  }
 },
 "nbformat": 4,
 "nbformat_minor": 2
}
