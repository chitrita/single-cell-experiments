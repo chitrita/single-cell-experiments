{
 "cells": [
  {
   "cell_type": "markdown",
   "metadata": {},
   "source": [
    "# Scanpy on Spark with Jupyter - log1p"
   ]
  },
  {
   "cell_type": "markdown",
   "metadata": {},
   "source": [
    "This is a notebook to sanity check the set up. It simply runs Scanpy's `log1p` function using PySpark on the 10x 1 million neurons dataset. The data is stored in Zarr format on GCS."
   ]
  },
  {
   "cell_type": "code",
   "execution_count": 1,
   "metadata": {},
   "outputs": [
    {
     "name": "stdout",
     "output_type": "stream",
     "text": [
      "Cloning into 'single-cell-experiments'...\n",
      "remote: Counting objects: 390, done.\u001b[K\n",
      "remote: Compressing objects: 100% (77/77), done.\u001b[K\n",
      "remote: Total 390 (delta 55), reused 118 (delta 46), pack-reused 255\u001b[K\n",
      "Receiving objects: 100% (390/390), 2.51 MiB | 0 bytes/s, done.\n",
      "Resolving deltas: 100% (174/174), done.\n"
     ]
    }
   ],
   "source": [
    "! git clone https://github.com/lasersonlab/single-cell-experiments\n",
    "import sys\n",
    "sys.path.append(\"single-cell-experiments\")"
   ]
  },
  {
   "cell_type": "code",
   "execution_count": 2,
   "metadata": {},
   "outputs": [],
   "source": [
    "sc.addPyFile(\"single-cell-experiments/anndata_spark.py\")\n",
    "sc.addPyFile(\"single-cell-experiments/scanpy_spark.py\")\n",
    "sc.addPyFile(\"single-cell-experiments/zarr_spark.py\")"
   ]
  },
  {
   "cell_type": "code",
   "execution_count": 3,
   "metadata": {},
   "outputs": [
    {
     "name": "stderr",
     "output_type": "stream",
     "text": [
      "/opt/conda/lib/python3.6/importlib/_bootstrap.py:219: RuntimeWarning: numpy.dtype size changed, may indicate binary incompatibility. Expected 96, got 88\n",
      "  return f(*args, **kwds)\n",
      "/opt/conda/lib/python3.6/importlib/_bootstrap.py:219: RuntimeWarning: numpy.dtype size changed, may indicate binary incompatibility. Expected 96, got 88\n",
      "  return f(*args, **kwds)\n"
     ]
    }
   ],
   "source": [
    "from anndata_spark import AnnDataRdd\n",
    "from scanpy_spark import *"
   ]
  },
  {
   "cell_type": "code",
   "execution_count": 5,
   "metadata": {},
   "outputs": [
    {
     "name": "stdout",
     "output_type": "stream",
     "text": [
      "Variable names are not unique. To make them unique, call `.var_names_make_unique`.\n"
     ]
    },
    {
     "name": "stderr",
     "output_type": "stream",
     "text": [
      "/opt/conda/lib/python3.6/site-packages/zarr/storage.py:376: UserWarning: an object_codec is only needed for object arrays\n",
      "  warnings.warn('an object_codec is only needed for object arrays')\n"
     ]
    },
    {
     "name": "stdout",
     "output_type": "stream",
     "text": [
      "CPU times: user 2.37 s, sys: 272 ms, total: 2.64 s\n",
      "Wall time: 1min 34s\n"
     ]
    }
   ],
   "source": [
    "%%time\n",
    "adata_rdd = AnnDataRdd.from_zarr_gcs(sc, 'll-sc-data-bkup/10x/anndata_zarr/10x.zarr', 'hca-scale')\n",
    "log1p(adata_rdd) # updates in place\n",
    "adata_rdd.write_zarr_gcs('ll-sc-data-bkup/10x/anndata_zarr/10x-log1p.zarr', (10000, 27998), 'hca-scale')"
   ]
  }
 ],
 "metadata": {
  "kernelspec": {
   "display_name": "PySpark",
   "language": "python",
   "name": "pyspark"
  },
  "language_info": {
   "codemirror_mode": {
    "name": "ipython",
    "version": 3
   },
   "file_extension": ".py",
   "mimetype": "text/x-python",
   "name": "python",
   "nbconvert_exporter": "python",
   "pygments_lexer": "ipython3",
   "version": "3.6.5"
  }
 },
 "nbformat": 4,
 "nbformat_minor": 2
}
